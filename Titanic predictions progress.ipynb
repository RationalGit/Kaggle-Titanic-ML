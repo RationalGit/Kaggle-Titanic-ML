{
 "cells": [
  {
   "cell_type": "markdown",
   "metadata": {},
   "source": [
    "# Predicting survival from passenger info\n",
    "\n",
    "This is my first attempt at applying statistical methods to achieve predictive outcomes, which is pretty exciting.\n",
    "\n",
    "However I recognise that for many readers, this will not be quite so exciting.\n",
    "\n",
    "Like many others, I went through the learning resources prior to my first submission, giving a high benchmark for the predictive accuracy coming from application of a simple random forest method."
   ]
  },
  {
   "cell_type": "code",
   "execution_count": 1,
   "metadata": {},
   "outputs": [],
   "source": [
    "from sklearn.ensemble import RandomForestClassifier"
   ]
  },
  {
   "cell_type": "markdown",
   "metadata": {},
   "source": [
    "Simply by using the suggested features, there is a training data accuracy of , resulting in a test set accuracy of 0.77511.\n",
    "\n",
    "This seems impressively high for default settings with such little set up"
   ]
  },
  {
   "cell_type": "code",
   "execution_count": 2,
   "metadata": {},
   "outputs": [],
   "source": [
    "features = [\"Pclass\", \"Sex\", \"SibSp\", \"Parch\"]\n",
    "\n",
    "model = RandomForestClassifier(n_estimators = 100, \n",
    "                               max_depth = 5, \n",
    "                               random_state = 1)"
   ]
  },
  {
   "cell_type": "code",
   "execution_count": null,
   "metadata": {},
   "outputs": [],
   "source": []
  }
 ],
 "metadata": {
  "kernelspec": {
   "display_name": "Python 3",
   "language": "python",
   "name": "python3"
  },
  "language_info": {
   "codemirror_mode": {
    "name": "ipython",
    "version": 3
   },
   "file_extension": ".py",
   "mimetype": "text/x-python",
   "name": "python",
   "nbconvert_exporter": "python",
   "pygments_lexer": "ipython3",
   "version": "3.7.3"
  }
 },
 "nbformat": 4,
 "nbformat_minor": 2
}
