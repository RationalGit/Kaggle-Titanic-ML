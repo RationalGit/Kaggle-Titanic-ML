{
 "cells": [
  {
   "cell_type": "code",
   "execution_count": 11,
   "metadata": {},
   "outputs": [],
   "source": [
    "import numpy as np\n",
    "import matplotlib.pyplot as plt\n",
    "import pandas as pd\n",
    "import seaborn as sns\n",
    "from sklearn.ensemble import RandomForestRegressor\n",
    "from sklearn.pipeline import Pipeline\n",
    "from sklearn.compose import ColumnTransformer\n",
    "from sklearn.impute import SimpleImputer\n",
    "from sklearn.preprocessing import OneHotEncoder, StandardScaler\n",
    "from sklearn.model_selection import cross_val_score, train_test_split, GridSearchCV"
   ]
  },
  {
   "cell_type": "code",
   "execution_count": 13,
   "metadata": {},
   "outputs": [],
   "source": [
    "def get_score(n_estimators, cv_folds = 3):\n",
    "    \"\"\"Return the average MAE (mean absolute error) over CV folds of random forest model\n",
    "\n",
    "    Assumes data in form of X (features/predictors DataFrame), y (target data Series)\n",
    "\n",
    "    Keyword argument:\n",
    "    n_estimators -- the number of trees in the forest\n",
    "    cv_folds --  cross-validation splitting strategy\n",
    "        - None, to use the default 3-fold cross validation,\n",
    "        - integer, to specify the number of folds in a (Stratified)KFold,\n",
    "        - CV splitter,\n",
    "        - An iterable yielding (train, test) splits as arrays of indices.()\n",
    "    \"\"\"\n",
    "    \n",
    "        # Preprocessing for numerical data\n",
    "    numerical_transformer = SimpleImputer(strategy='constant')\n",
    "\n",
    "    # Preprocessing for categorical data\n",
    "    categorical_transformer = Pipeline(steps=[\n",
    "        ('imputer', SimpleImputer(strategy='most_frequent')),\n",
    "        ('onehot', OneHotEncoder(handle_unknown='ignore'))\n",
    "    ])\n",
    "\n",
    "    # Bundle preprocessing for numerical and categorical data\n",
    "    preprocessor = ColumnTransformer(\n",
    "        transformers=[\n",
    "            ('num', numerical_transformer, numerical_cols),\n",
    "            ('cat', categorical_transformer, categorical_cols)\n",
    "        ])\n",
    "    # Pipeline: \n",
    "    my_pipeline = Pipeline(steps = [\n",
    "    ('preprocessor', preprocessor),\n",
    "    ('model', RandomForestRegressor(n_estimators = n_estimators,\n",
    "                                    random_state = 0))\n",
    "    ])\n",
    "    \n",
    "    # Multiply by -1 since sklearn calculates a negative MAE\n",
    "    scores = -1 * cross_val_score(my_pipeline, X, y,\n",
    "                                  cv = cv_folds,\n",
    "                                  scoring = 'neg_mean_absolute_error')\n",
    "    return scores.mean()\n",
    "    pass"
   ]
  },
  {
   "cell_type": "code",
   "execution_count": 30,
   "metadata": {},
   "outputs": [],
   "source": [
    "# Import data\n",
    "train_data = pd.read_csv('Data/train.csv')\n",
    "test_data = pd.read_csv('Data/test.csv')\n",
    "\n",
    "y = train_data['Survived'].copy()\n",
    "\n",
    "X = train_data.drop('Survived', axis = 1).copy()\n",
    "\n",
    "# Divide data into training and validation subsets\n",
    "X_train_full, X_valid_full, y_train, y_valid = train_test_split(X, y, \n",
    "                                                                train_size=0.8, test_size=0.2,\n",
    "                                                                random_state=0)\n",
    "\n",
    "# Cardinality: number of unique values in a column\n",
    "# Select categorical columns with relatively low cardinality (convenient but arbitrary)\n",
    "categorical_cols = [cname for cname in X_train_full.columns \n",
    "                    if X_train_full[cname].nunique() < 15 \n",
    "                    and X_train_full[cname].dtype == \"object\"]\n",
    "\n",
    "# Select numerical columns\n",
    "numerical_cols = [cname for cname in X_train_full.columns if X_train_full[cname].dtype in ['int64', 'float64']]\n",
    "\n",
    "# Keep selected columns only\n",
    "my_cols = categorical_cols + numerical_cols\n",
    "X_train = X_train_full[my_cols].copy()\n",
    "X_valid = X_valid_full[my_cols].copy()"
   ]
  },
  {
   "cell_type": "code",
   "execution_count": 31,
   "metadata": {},
   "outputs": [
    {
     "ename": "NameError",
     "evalue": "name 'n_estimators' is not defined",
     "output_type": "error",
     "traceback": [
      "\u001b[1;31m---------------------------------------------------------------------------\u001b[0m",
      "\u001b[1;31mNameError\u001b[0m                                 Traceback (most recent call last)",
      "\u001b[1;32m<ipython-input-31-a75c261492e5>\u001b[0m in \u001b[0;36m<module>\u001b[1;34m\u001b[0m\n\u001b[0;32m     17\u001b[0m my_pipeline = Pipeline(steps = [\n\u001b[0;32m     18\u001b[0m \u001b[1;33m(\u001b[0m\u001b[1;34m'preprocessor'\u001b[0m\u001b[1;33m,\u001b[0m \u001b[0mpreprocessor\u001b[0m\u001b[1;33m)\u001b[0m\u001b[1;33m,\u001b[0m\u001b[1;33m\u001b[0m\u001b[1;33m\u001b[0m\u001b[0m\n\u001b[1;32m---> 19\u001b[1;33m ('model', RandomForestRegressor(n_estimators = n_estimators,\n\u001b[0m\u001b[0;32m     20\u001b[0m                                 random_state = 0))\n\u001b[0;32m     21\u001b[0m ])\n",
      "\u001b[1;31mNameError\u001b[0m: name 'n_estimators' is not defined"
     ]
    }
   ],
   "source": [
    "# Preprocessing for numerical data\n",
    "numerical_transformer = SimpleImputer(strategy='constant')\n",
    "\n",
    "# Preprocessing for categorical data\n",
    "categorical_transformer = Pipeline(steps=[\n",
    "    ('imputer', SimpleImputer(strategy='most_frequent')),\n",
    "    ('onehot', OneHotEncoder(handle_unknown='ignore'))\n",
    "])\n",
    "\n",
    "# Bundle preprocessing for numerical and categorical data\n",
    "preprocessor = ColumnTransformer(\n",
    "    transformers=[\n",
    "        ('num', numerical_transformer, numerical_cols),\n",
    "        ('cat', categorical_transformer, categorical_cols)\n",
    "    ])\n",
    "# Pipeline: \n",
    "my_pipeline = Pipeline(steps = [\n",
    "('preprocessor', preprocessor),\n",
    "('model', RandomForestRegressor(n_estimators = n_estimators,\n",
    "                                random_state = 0))\n",
    "])"
   ]
  },
  {
   "cell_type": "code",
   "execution_count": 38,
   "metadata": {},
   "outputs": [
    {
     "data": {
      "image/png": "[encoded data removed]",
      "text/plain": [
       "<Figure size 432x288 with 1 Axes>"
      ]
     },
     "metadata": {
      "needs_background": "light"
     },
     "output_type": "display_data"
    }
   ],
   "source": [
    "est_range = range(1,25)\n",
    "\n",
    "results = {}\n",
    "for i in est_range:\n",
    "    results[i] = get_score(i)\n",
    "\n",
    "%matplotlib inline\n",
    "\n",
    "plt.plot(results.keys(), results.values())\n",
    "\n",
    "est_range = np.arange(25,550,50)\n",
    "\n",
    "results_2 = {}\n",
    "for i in est_range:\n",
    "    results_2[i] = get_score(i)\n",
    "\n",
    "plt.plot(results_2.keys(), results_2.values())\n",
    "plt.show()\n"
   ]
  },
  {
   "cell_type": "code",
   "execution_count": null,
   "metadata": {},
   "outputs": [],
   "source": [
    "# param_grid = { \n",
    "#     'classifier__n_estimators': [200, 500],\n",
    "#     'classifier__max_features': ['auto', 'sqrt', 'log2'],\n",
    "#     'classifier__max_depth' : [4,5,6,7,8],\n",
    "#     'classifier__criterion' :['gini', 'entropy']}\n",
    "# from sklearn.model_selection import GridSearchCV\n",
    "# CV = GridSearchCV(rf, param_grid, n_jobs= 1)\n",
    "                  \n",
    "# CV.fit(X_train, y_train)  \n",
    "# print(CV.best_params_)   \n",
    "# print(CV.best_score_)"
   ]
  },
  {
   "cell_type": "markdown",
   "metadata": {},
   "source": [
    "Custom pipeline transformations:\n",
    "https://towardsdatascience.com/custom-transformers-and-ml-data-pipelines-with-python-20ea2a7adb65"
   ]
  },
  {
   "cell_type": "code",
   "execution_count": null,
   "metadata": {},
   "outputs": [],
   "source": [
    "## from: https://www.codementor.io/bruce3557/beautiful-machine-learning-pipeline-with-scikit-learn-uiqapbxuj\n",
    "model_pipeline = Pipeline(steps=[\n",
    "  (\"features\", FeatureUnion([\n",
    "    (\"numerical_features\", \n",
    "     ColumnTransformer([\n",
    "        (\"numerical\", \n",
    "         Pipeline(steps=[(\n",
    "            \"impute_stage\", SimpleImputer(missing_values=np.nan, strategy=\"median\",)\n",
    "          )]), \n",
    "         [\"feature_1\"]\n",
    "        )\n",
    "     ])\n",
    "    ), \n",
    "    (\"categorical_features\",\n",
    "     ColumnTransformer([\n",
    "        (\"country_encoding\",\n",
    "         Pipeline(steps=[\n",
    "            (\"ohe\", OneHotEncoder(handle_unknown=\"ignore\")),\n",
    "            (\"reduction\", NMF(n_components=8)),\n",
    "         ]),\n",
    "         [\"country\"],\n",
    "        ),\n",
    "      ])\n",
    "    ), (\n",
    "      \"text_features\",\n",
    "      ColumnTransformer([\n",
    "        (\n",
    "          \"title_vec\",\n",
    "          Pipeline(steps=[\n",
    "            (\"tfidf\", TfidfVectorizer()),\n",
    "            (\"reduction\", NMF(n_components=50)),\n",
    "          ]),\n",
    "          \"title\"\n",
    "        )\n",
    "      ])\n",
    "    )\n",
    "  ])),\n",
    "  (\"classifiers\", RandomForestClassifier())\n",
    "])\n",
    "\n",
    "model_pipeline.fit(train_data, train_labels.values)\n",
    "predictions = model_pipeline.predict(predict_data)"
   ]
  }
 ],
 "metadata": {
  "kernelspec": {
   "display_name": "Python 3",
   "language": "python",
   "name": "python3"
  },
  "language_info": {
   "codemirror_mode": {
    "name": "ipython",
    "version": 3
   },
   "file_extension": ".py",
   "mimetype": "text/x-python",
   "name": "python",
   "nbconvert_exporter": "python",
   "pygments_lexer": "ipython3",
   "version": "3.7.3"
  }
 },
 "nbformat": 4,
 "nbformat_minor": 2
}
