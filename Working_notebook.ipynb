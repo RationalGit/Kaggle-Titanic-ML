{
 "cells": [
  {
   "cell_type": "code",
   "execution_count": null,
   "metadata": {},
   "outputs": [],
   "source": [
    "import numpy as np\n",
    "import matplotlib.pyplot as plt\n",
    "import pandas as pd\n",
    "import seaborn as sns\n",
    "from sklearn.ensemble import RandomForestRegressor\n",
    "from sklearn.pipeline import make_pipeline\n",
    "from sklearn.preprocessing import OneHotEncoder, StandardScaler\n",
    "from sklearn.model_selection import cross_val_score, train_test_split, GridSearchCV\n",
    "\n",
    "def get_score(n_estimators, cv_folds = 3):\n",
    "    \"\"\"Return the average MAE (mean absolute error) over CV folds of random forest model\n",
    "\n",
    "    Assumes data in form of X (features/predictors DataFrame), y (target data Series)\n",
    "\n",
    "    Keyword argument:\n",
    "    n_estimators -- the number of trees in the forest\n",
    "    cv_folds --  cross-validation splitting strategy\n",
    "        - None, to use the default 3-fold cross validation,\n",
    "        - integer, to specify the number of folds in a (Stratified)KFold,\n",
    "        - CV splitter,\n",
    "        - An iterable yielding (train, test) splits as arrays of indices.()\n",
    "    \"\"\"\n",
    "    my_pipeline = Pipeline(steps = [\n",
    "    ('preprocessor', SimpleImputer()),\n",
    "    ('model', RandomForestRegressor(n_estimators = n_estimators,\n",
    "                                    random_state = 0))\n",
    "    ])\n",
    "    # Multiply by -1 since sklearn calculates a negative MAE\n",
    "    scores = -1 * cross_val_score(my_pipeline, X, y,\n",
    "                                  cv = cv_folds,\n",
    "                                  scoring = 'neg_mean_absolute_error')\n",
    "    return scores.mean()\n",
    "    pass\n",
    "\n",
    "# Import data\n",
    "train_data = pd.read_csv('Data/train.csv')\n",
    "test_data = pd.read_csv('Data/test.csv')\n",
    "\n",
    "y = train_data['Survived'].copy()\n",
    "\n",
    "X = train_data.drop('Survived', axis = 1).copy()\n",
    "\n",
    "sns.distplot(train_data['Age'].dropna())\n",
    "plt.show()\n",
    "# param_grid = { \n",
    "#     'classifier__n_estimators': [200, 500],\n",
    "#     'classifier__max_features': ['auto', 'sqrt', 'log2'],\n",
    "#     'classifier__max_depth' : [4,5,6,7,8],\n",
    "#     'classifier__criterion' :['gini', 'entropy']}\n",
    "# from sklearn.model_selection import GridSearchCV\n",
    "# CV = GridSearchCV(rf, param_grid, n_jobs= 1)\n",
    "                  \n",
    "# CV.fit(X_train, y_train)  \n",
    "# print(CV.best_params_)   \n",
    "# print(CV.best_score_)\n"
   ]
  }
 ],
 "metadata": {
  "kernelspec": {
   "display_name": "Python 3",
   "language": "python",
   "name": "python3"
  },
  "language_info": {
   "codemirror_mode": {
    "name": "ipython",
    "version": 3
   },
   "file_extension": ".py",
   "mimetype": "text/x-python",
   "name": "python",
   "nbconvert_exporter": "python",
   "pygments_lexer": "ipython3",
   "version": "3.7.3"
  }
 },
 "nbformat": 4,
 "nbformat_minor": 2
}
