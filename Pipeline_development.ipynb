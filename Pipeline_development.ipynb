{
 "cells": [
  {
   "cell_type": "markdown",
   "metadata": {},
   "source": [
    "Progress list:\n",
    "\n",
    "- Develop basic pipeline that can process data\n",
    "    - NaN handling for categorical and numerical columns of DataFrame\n",
    "    - Model building - simple, defined RandomForestRegression to start with\n",
    "- Enhance pipeline with cross-validation/gridsearch\n",
    "- Improve feature engineering using insights\n",
    "    - Handling of Ticket data (Ticket_num, Ticket_pre)\n",
    "    - Name splitting (Title, First_name, Surname, Other_names, Maiden_names)\n",
    "    - 'Is_alone' column, for Parch & SibSp == 0\n",
    "    - Familial_rel column, try to work out role within family (e.g. Father, Mother, Grandfather, etc.)\n",
    "    - Age inference (How best to do this?)\n",
    "        - First step: view known age distributions for each title (see Explore_data) \n",
    "        - For 'Master' title passengers, use median of other 'Master's\n",
    "        - May be able to simply use median ages for groups within Familial_rel column, if not, split data by Pclass and then do so\n",
    "        - Split data by Pclass, \n",
    "            - then separate out Is_alone and allocate median to these passengers  "
   ]
  }
 ],
 "metadata": {
  "kernelspec": {
   "display_name": "Python 3",
   "language": "python",
   "name": "python3"
  },
  "language_info": {
   "codemirror_mode": {
    "name": "ipython",
    "version": 3
   },
   "file_extension": ".py",
   "mimetype": "text/x-python",
   "name": "python",
   "nbconvert_exporter": "python",
   "pygments_lexer": "ipython3",
   "version": "3.7.3"
  }
 },
 "nbformat": 4,
 "nbformat_minor": 2
}
